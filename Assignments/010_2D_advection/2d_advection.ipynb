{
 "cells": [
  {
   "cell_type": "markdown",
   "metadata": {},
   "source": [
    "## 2D advection\n",
    "Due: 02.12.2024 @ 23:59\n",
    "\n",
    "\n",
    "### Instruction\n",
    "Solve the 2D advection problem with both the CIR and the CTU method:\n",
    "- on a quadratic, periodic grid, with a 2D gaussian as initial condition\n",
    "- evolve the solution for multiple passings of the domain\n",
    "- create an animation comparing the two methods\n",
    "- discuss if and how the solution diffuses numerically depending on the direction of motion and the resolution"
   ]
  },
  {
   "cell_type": "code",
   "execution_count": 18,
   "metadata": {},
   "outputs": [],
   "source": [
    "import numpy as np\n",
    "import matplotlib.pyplot as plt\n",
    "import matplotlib.animation as animation\n",
    "import itertools"
   ]
  },
  {
   "cell_type": "code",
   "execution_count": 19,
   "metadata": {},
   "outputs": [],
   "source": [
    "class InfiniteRectangularGrid:\n",
    "    \"\"\"\n",
    "    Snake like grid, where escapine one side \"teleports\" you to the other\n",
    "    \"\"\"\n",
    "\n",
    "    def __init__(self, center_size):\n",
    "        \"\"\"\n",
    "        Initializes the grid\n",
    "        \"\"\"\n",
    "        self.size = center_size\n",
    "        self.subgrid = np.zeros((self.size, self.size))\n",
    "        self.x = np.linspace(0, 1, self.size)\n",
    "        self.y = np.linspace(0, 1, self.size)\n",
    "\n",
    "    def __getitem__(self, index):\n",
    "        \"\"\"\n",
    "        Defines the getter for InfiniteRectangularGrid[x, y]\n",
    "        \"\"\"\n",
    "        x, y = index\n",
    "        x, y = x % self.size, y % self.size # infinite  grid effect\n",
    "\n",
    "        return self.subgrid[x, y]\n",
    "\n",
    "\n",
    "    def __setitem__(self, index, value):\n",
    "        \"\"\"\n",
    "        Defines InfiniteRectangularGrid[x, y] = something\n",
    "        \"\"\"\n",
    "        x, y = index\n",
    "        x, y = x % self.size, y % self.size # infinite grid effect\n",
    "\n",
    "        self.subgrid[x, y] = value\n",
    "\n",
    "    def __repr__(self):\n",
    "        \"\"\"\n",
    "        Defines that the print statement on this function print the subgrid\n",
    "        \"\"\"\n",
    "        return str(self.subgrid)\n",
    "\n",
    "    def __array__(self):\n",
    "        \"\"\"\n",
    "        Makes the grid compatible with matplotlib\n",
    "        eg: matplotlib.pyplot.imshow(InfiniteRectangularGrid) acts the same as if the grid were a numpy 2d array\n",
    "        \"\"\"\n",
    "        return self.subgrid\n",
    "\n",
    "    def copy(self):\n",
    "        \"\"\"\n",
    "        Returns a InfiniteRectangularGrid with the same properties as this one\n",
    "        \"\"\"\n",
    "\n",
    "        copied_object = InfiniteRectangularGrid(self.size)\n",
    "        copied_object = self.subgrid.copy()\n",
    "\n",
    "        return copied_object"
   ]
  },
  {
   "cell_type": "code",
   "execution_count": 20,
   "metadata": {},
   "outputs": [],
   "source": [
    "def gaussian(x, y, x0=20, y0=20, sigx=5, sigy=5, A=1):\n",
    "    return A * np.exp(-((((x - x0)**2)/(2 * sigx**2)) + (((y - y0)**2)/(2 * sigy**2))))\n",
    "\n",
    "def CIR(rho, size, ca=0.5, cb=0.5):\n",
    "    new_rho = rho.copy()\n",
    "\n",
    "    for x, y in itertools.product(range(size), range(size)):\n",
    "        x_contribution = ca * rho[x - 1, y] + (1 - ca) * rho[x, y]\n",
    "        y_contribution = cb * rho[x, y - 1] + (1 - cb) * rho[x, y]\n",
    "        new_rho[x, y] = x_contribution + y_contribution - rho[x, y]\n",
    "\n",
    "    return new_rho\n",
    "\n",
    "\n",
    "def CTU(rho, size, ca=0.5, cb=0.5):\n",
    "    new_rho = rho.copy()\n",
    "\n",
    "    for x,y in itertools.product(range(size), range(size)):\n",
    "        new_rho[x, y] = (1 - ca) * (1 - cb) * rho[x, y] \\\n",
    "            + ca * (1 - cb) * rho[x-1, y] \\\n",
    "            + (1 - ca) * cb * rho[x, y-1] \\\n",
    "            + ca * cb * rho[x - 1, y - 1]\n",
    "            \n",
    "    return new_rho\n",
    "\n",
    "def evolve(rho, method, size, tend=100, ca=0.5, cb=0.5):\n",
    "    rhos = [rho.copy()]\n",
    "    for i in range(1, tend):\n",
    "        rho = method(rho, size, ca, cb)\n",
    "        rhos.append(rho.copy())\n",
    "    return rhos\n",
    "\n",
    "def animate_rhos(rhos1, rhos2, method1, method2):\n",
    "    fig, ax = plt.subplots(1, 2)\n",
    "    ax[0].set_title(f\"Method: {method1}\")\n",
    "    ax[1].set_title(f\"Method: {method2}\")\n",
    "\n",
    "    img1 = ax[0].imshow(rhos1[0].T, cmap='viridis', origin='lower')\n",
    "    img2 = ax[1].imshow(rhos2[0].T, cmap='viridis', origin='lower')\n",
    "\n",
    "    def update(frame):\n",
    "        img1.set_array(rhos1[frame % len(rhos1)].T)\n",
    "        img2.set_array(rhos2[frame % len(rhos2)].T)\n",
    "        return img1, img2\n",
    "    \n",
    "    anim = animation.FuncAnimation(fig, update, frames=len(rhos1))\n",
    "    writer = animation.PillowWriter(fps=30)\n",
    "    anim.save(f\"animation.gif\", writer=writer)"
   ]
  },
  {
   "cell_type": "code",
   "execution_count": 21,
   "metadata": {},
   "outputs": [
    {
     "data": {
      "image/png": "[encoded data removed]",
      "text/plain": [
       "<Figure size 640x480 with 2 Axes>"
      ]
     },
     "metadata": {},
     "output_type": "display_data"
    }
   ],
   "source": [
    "size = 200\n",
    "N = 1000\n",
    "ca = 0.5\n",
    "cb = 0.5\n",
    "\n",
    "# Initialize the rectangular grid\n",
    "rho = InfiniteRectangularGrid(size)\n",
    "\n",
    "\n",
    "# Define the gaussian distribution on the grid\n",
    "for x, y in itertools.product(range(size), range(size)):\n",
    "    rho[x, y] = gaussian(x, y, x0=60, y0=20, sigx=5, sigy=5, A=1)\n",
    "\n",
    "ctu_rhos = evolve(rho, CTU, size=size, tend=N)\n",
    "cir_rhos = evolve(rho, CIR, size=size, tend=N)\n",
    "animate_rhos(cir_rhos, ctu_rhos,\"CIR\", \"CTU\")"
   ]
  }
 ],
 "metadata": {
  "kernelspec": {
   "display_name": "Python 3",
   "language": "python",
   "name": "python3"
  },
  "language_info": {
   "codemirror_mode": {
    "name": "ipython",
    "version": 3
   },
   "file_extension": ".py",
   "mimetype": "text/x-python",
   "name": "python",
   "nbconvert_exporter": "python",
   "pygments_lexer": "ipython3",
   "version": "3.10.15"
  }
 },
 "nbformat": 4,
 "nbformat_minor": 2
}
