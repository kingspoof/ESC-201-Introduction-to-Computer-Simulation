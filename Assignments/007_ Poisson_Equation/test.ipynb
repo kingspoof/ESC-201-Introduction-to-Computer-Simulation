{
 "cells": [
  {
   "cell_type": "code",
   "execution_count": 203,
   "metadata": {},
   "outputs": [],
   "source": [
    "#!/usr/bin/env python3\n",
    "from scipy import ndimage\n",
    "import numpy as np\n",
    "import matplotlib\n",
    "import matplotlib.pyplot as plt\n",
    "\n",
    "#number of grid points\n",
    "N = 100\n",
    "\n",
    "#omega definition\n",
    "w = 1.9\n",
    "\n",
    "#define empty grid voltage\n",
    "U = np.zeros((N,N))"
   ]
  },
  {
   "cell_type": "code",
   "execution_count": 204,
   "metadata": {},
   "outputs": [],
   "source": [
    "#boundary conditions\n",
    "#border of box\n",
    "R = np.ones_like(U)*w/4\n",
    "R[0,:] = 0\n",
    "R[-1,:] = 0\n",
    "R[:,0] = 0\n",
    "R[:,-1] = 0\n",
    "\n",
    "##################building components######################\n",
    "U[int(N/2), int(N/4):(int(N/4)+int(N/2))] = 1000 # set the initial value of the stick to be 1000\n",
    "R[int(N/2), int(N/4):(int(N/4)+int(N/2))] = 0 # prohibit the value of the stick to be updated\n",
    "\n",
    "update_mask = (R == w/4) # we do this, to prevent our system from updating the fixed positions (0 Volts and 1000 Volts)\n",
    "\n",
    "#checker board\n",
    "B = np.indices((N, N)).sum(axis=0) % 2 == 0"
   ]
  },
  {
   "cell_type": "code",
   "execution_count": 207,
   "metadata": {},
   "outputs": [
    {
     "name": "stdout",
     "output_type": "stream",
     "text": [
      "0 1.0\n"
     ]
    },
    {
     "data": {
      "text/plain": [
       "<matplotlib.colorbar.Colorbar at 0x13efaed40>"
      ]
     },
     "execution_count": 207,
     "metadata": {},
     "output_type": "execute_result"
    },
    {
     "data": {
      "image/png": "[encoded data removed]",
      "text/plain": [
       "<Figure size 640x480 with 2 Axes>"
      ]
     },
     "metadata": {},
     "output_type": "display_data"
    }
   ],
   "source": [
    "C = np.ones_like(U)\n",
    "M = np.ones_like(U)\n",
    "\n",
    "#count steps\n",
    "nsteps = 0\n",
    "diff = np.max(np.abs(M))\n",
    "\n",
    "\n",
    "# first we do this without the checkerboard pattern\n",
    "W = np.array([[0,1,0],[1,-4,1],[0,1,0]])\n",
    "\n",
    "#iterate until voltage change is smaller than 1e-3\n",
    "W = np.array([[0,1,0],[1,-4,1],[0,1,0]])\n",
    "while diff >= 1e-3 and nsteps < 1:\n",
    "    print(nsteps,diff)\n",
    "    ndimage.convolve(U,W, output = C, mode = \"constant\", cval = 0)\n",
    "    M = U - C\n",
    "    U = U + M\n",
    "\n",
    "    nsteps += 1\n",
    "    diff = np.max(np.abs(M))\n",
    "\n",
    "\n",
    "plt.imshow(U, cmap='viridis')\n",
    "plt.colorbar()"
   ]
  },
  {
   "cell_type": "code",
   "execution_count": 206,
   "metadata": {},
   "outputs": [],
   "source": [
    "###########\n",
    "W = np.array([[0,1,0],[1,-4,1],[0,1,0]])\n",
    "ndimage.convolve(U,W, output = C, mode = \"constant\", cval = 0)\n",
    "M  = U - C\n",
    "U[B] = U[B] + M[B]\n",
    "ndimage.convolve(U,W, output = C, mode = \"constant\", cval = 0)\n",
    "M  = U - C\n",
    "U[~B] = U[~B] + M[~B]\n",
    "\n",
    "\n",
    "# these are used to do the calculation without the convolve stuff\n",
    "#C[....] = U[....] + U[....] + U[....] + U[....] - 4.0*U[....]\n",
    "#M  = ....\n",
    "#C[....] = U[....] + U[....] + U[....] + U[....] - 4.0*U[....]\n",
    "#M  = ....\n",
    "#U[~B] = U[~B] + M[~B]\n",
    "##########"
   ]
  }
 ],
 "metadata": {
  "kernelspec": {
   "display_name": "Python 3",
   "language": "python",
   "name": "python3"
  },
  "language_info": {
   "codemirror_mode": {
    "name": "ipython",
    "version": 3
   },
   "file_extension": ".py",
   "mimetype": "text/x-python",
   "name": "python",
   "nbconvert_exporter": "python",
   "pygments_lexer": "ipython3",
   "version": "3.10.15"
  }
 },
 "nbformat": 4,
 "nbformat_minor": 2
}
