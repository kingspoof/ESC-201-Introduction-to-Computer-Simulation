{
 "cells": [
  {
   "cell_type": "code",
   "execution_count": 33,
   "metadata": {},
   "outputs": [],
   "source": [
    "import numpy as np"
   ]
  },
  {
   "cell_type": "code",
   "execution_count": 34,
   "metadata": {},
   "outputs": [],
   "source": [
    "def eval_func(x):\n",
    "    return x + 10000\n",
    "\n",
    "def bisection_root_finding(f):\n",
    "    \"\"\" Define some functional constants \"\"\"\n",
    "    max_starting_values = 10e10\n",
    "    starting_value_increase = 10\n",
    "    accuracy_threshhold = 10e-20    # limit the run time of the function by defining a required accuracy\n",
    "    max_iterations = 10e10           # limit the run time of the function -> disregards accuracy\n",
    "\n",
    "    # first we try and find two different points with a differnt sign\n",
    "    starting_value = 1\n",
    "    while(np.sign(f(starting_value)) * np.sign(f(-1 * starting_value)) == 1):\n",
    "        starting_value += starting_value_increase\n",
    "    #print(f\"Found Starting conditions: {-starting_value} -> {starting_value}\")\n",
    "\n",
    "\n",
    "    # assign the values according to their sign\n",
    "    positive_x = starting_value if np.sign(starting_value) > 0 else -1 * starting_value\n",
    "    negative_x = -starting_value\n",
    "    #print(f\"Positive X: {positive_x}, Negative_x: {negative_x}\")\n",
    "\n",
    "\n",
    "    # now that we have our starting conditions, we can find the root\n",
    "    current_iteration = 0\n",
    "    current_x_value = 0.5 * (positive_x + negative_x)\n",
    "    current_function_value = f(current_x_value)\n",
    "    while(np.abs(current_function_value) > accuracy_threshhold and current_iteration < max_iterations):\n",
    "        if(current_function_value > 0):\n",
    "            positive_x = current_x_value\n",
    "        else:\n",
    "            negative_x = current_x_value\n",
    "\n",
    "        current_x_value = 0.5 * (positive_x + negative_x)\n",
    "        current_function_value = f(current_x_value)\n",
    "\n",
    "\n",
    "        current_iteration += 1\n",
    "\n",
    "\n",
    "    return current_x_value"
   ]
  }
 ],
 "metadata": {
  "kernelspec": {
   "display_name": "Python 3",
   "language": "python",
   "name": "python3"
  },
  "language_info": {
   "codemirror_mode": {
    "name": "ipython",
    "version": 3
   },
   "file_extension": ".py",
   "mimetype": "text/x-python",
   "name": "python",
   "nbconvert_exporter": "python",
   "pygments_lexer": "ipython3",
   "version": "3.10.15"
  }
 },
 "nbformat": 4,
 "nbformat_minor": 2
}
