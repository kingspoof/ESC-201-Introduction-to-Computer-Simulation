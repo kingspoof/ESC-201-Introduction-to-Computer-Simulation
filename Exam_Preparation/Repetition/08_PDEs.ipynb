{
 "cells": [
  {
   "cell_type": "code",
   "execution_count": 14,
   "metadata": {},
   "outputs": [],
   "source": [
    "import numpy as np\n",
    "import matplotlib.pyplot as plt"
   ]
  },
  {
   "cell_type": "code",
   "execution_count": 18,
   "metadata": {},
   "outputs": [
    {
     "name": "stderr",
     "output_type": "stream",
     "text": [
      "/var/folders/63/kr3r0_q93cs_34zrsvflw69r0000gn/T/ipykernel_43079/3931508445.py:38: RuntimeWarning: overflow encountered in add\n",
      "  delta += w/4 * np.roll(inner_array, a, axis=b)\n",
      "/var/folders/63/kr3r0_q93cs_34zrsvflw69r0000gn/T/ipykernel_43079/3931508445.py:39: RuntimeWarning: invalid value encountered in subtract\n",
      "  delta -= self.grid\n"
     ]
    },
    {
     "data": {
      "image/png": "[encoded data removed]",
      "text/plain": [
       "<Figure size 640x480 with 2 Axes>"
      ]
     },
     "metadata": {},
     "output_type": "display_data"
    }
   ],
   "source": [
    "class PotentialGrid:\n",
    "    def __init__(self, size, voltage):\n",
    "        self.grid = np.zeros((size, size))\n",
    "        self.size = size\n",
    "\n",
    "        # setup the stick in the middle of the grid\n",
    "        self.voltage_stick = np.zeros_like(self.grid, dtype=bool)\n",
    "        self.voltage_stick[int(size / 2), int(size/4):(int(size/4) + 2 * int(size/4))] = True\n",
    "\n",
    "        # setup the bounds$\n",
    "        self.bounds = np.zeros_like(self.grid, dtype=bool)\n",
    "        self.bounds[0, ::] = True\n",
    "        self.bounds[-1, ::] = True\n",
    "        self.bounds[::, 0] = True\n",
    "        self.bounds[::, -1] = True\n",
    "\n",
    "        # update our grid with the bounds and the stick\n",
    "        self.grid[self.voltage_stick] = voltage\n",
    "        self.grid[self.bounds] = 0\n",
    "\n",
    "        # set an update_mask of position we should not update\n",
    "        self.update_mask = np.ones_like(self.grid, dtype=bool)\n",
    "        self.update_mask[self.voltage_stick] = False\n",
    "        self.update_mask[self.bounds] = False\n",
    "\n",
    "    def simulate_grid(self, max_iterations=10000, threshhold=10**-3, w=1):\n",
    "        for i in range(max_iterations):\n",
    "            # create a copy of the innter grid (excluding the bounds)\n",
    "            inner_array = np.zeros_like(self.grid)\n",
    "            inner_array[1:-1, 1:-1] = np.reshape(self.grid[~self.bounds], (self.size -2, self.size-2))\n",
    "            #self.visualize_grid(inner_array, True)\n",
    "\n",
    "            # we can now use this inner array to compute the new values of the current one\n",
    "            # newgrid will contain all the updated values\n",
    "            delta = np.zeros_like(self.grid)\n",
    "            changes = [(1, 0), (-1, 0), (1, 1), (-1, 1)] # shift the array top, down, right, left\n",
    "            for a,b in changes:\n",
    "                delta += w/4 * np.roll(inner_array, a, axis=b)\n",
    "            delta -= self.grid\n",
    "\n",
    "            # clean the unwanted changes from the delta\n",
    "            delta[~self.update_mask] = 0\n",
    "\n",
    "            # check if our biggest change falls under the threshhold\n",
    "            if(np.max(np.abs(delta[self.update_mask])) < threshhold):\n",
    "                #print(f\"Simulation of the grid took {i} iterations\")\n",
    "                return i\n",
    "\n",
    "            # update our grid\n",
    "            self.grid[self.update_mask] += delta[self.update_mask]\n",
    "        \n",
    "        #self.visualize_grid()\n",
    "        #print(f\"Simulation of the grid took the max number of iterations set at {max_iterations}\")\n",
    "        return max_iterations\n",
    "\n",
    "\n",
    "\n",
    "\n",
    "    def visualize_grid(self, grid=None, special=False):\n",
    "        if(not special):\n",
    "            plt.imshow(self.grid, origin='lower')\n",
    "        else:\n",
    "            plt.imshow(grid, origin='lower')\n",
    "        plt.colorbar()\n",
    "        plt.show()\n",
    "        plt.close()\n",
    "\n",
    "\n",
    "grid = PotentialGrid(100, 1000)\n",
    "grid.simulate_grid(w=1.90939)\n",
    "grid.visualize_grid()"
   ]
  }
 ],
 "metadata": {
  "kernelspec": {
   "display_name": "Python 3",
   "language": "python",
   "name": "python3"
  },
  "language_info": {
   "codemirror_mode": {
    "name": "ipython",
    "version": 3
   },
   "file_extension": ".py",
   "mimetype": "text/x-python",
   "name": "python",
   "nbconvert_exporter": "python",
   "pygments_lexer": "ipython3",
   "version": "3.10.15"
  }
 },
 "nbformat": 4,
 "nbformat_minor": 2
}
