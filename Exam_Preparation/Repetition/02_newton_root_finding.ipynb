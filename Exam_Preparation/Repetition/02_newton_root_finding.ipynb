{
 "cells": [
  {
   "cell_type": "code",
   "execution_count": 12,
   "metadata": {},
   "outputs": [
    {
     "data": {
      "text/plain": [
       "4.999990447992533"
      ]
     },
     "execution_count": 12,
     "metadata": {},
     "output_type": "execute_result"
    }
   ],
   "source": [
    "import numpy as np\n",
    "\n",
    "def eval_func(x):\n",
    "    return (x-5)**2\n",
    "\n",
    "def newton_root_finding(f, x0 = 0):\n",
    "    accuracy_threshhold = 1e-10\n",
    "    max_iterations = 10e10\n",
    "    \n",
    "    # we use this to compute the derivative\n",
    "    def df(x):\n",
    "        h = 1e-12\n",
    "        return (f(x+h) - f(x))/(h)\n",
    "\n",
    "\n",
    "    current_iteration = 0\n",
    "    current_x_value = x0\n",
    "    current_function_value = f(x0)\n",
    "    current_derivative_value = df(x0)\n",
    "    while(current_iteration < max_iterations and abs(current_function_value) > accuracy_threshhold):\n",
    "        current_x_value = current_x_value - current_function_value / current_derivative_value\n",
    "\n",
    "        current_function_value = f(current_x_value)\n",
    "        current_derivative_value = df(current_x_value)\n",
    "\n",
    "    return current_x_value\n",
    "\n",
    "\n",
    "newton_root_finding(eval_func)"
   ]
  }
 ],
 "metadata": {
  "kernelspec": {
   "display_name": "Python 3",
   "language": "python",
   "name": "python3"
  },
  "language_info": {
   "codemirror_mode": {
    "name": "ipython",
    "version": 3
   },
   "file_extension": ".py",
   "mimetype": "text/x-python",
   "name": "python",
   "nbconvert_exporter": "python",
   "pygments_lexer": "ipython3",
   "version": "3.10.15"
  }
 },
 "nbformat": 4,
 "nbformat_minor": 2
}
